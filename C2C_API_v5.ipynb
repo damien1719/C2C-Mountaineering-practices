{
 "cells": [
  {
   "cell_type": "code",
   "execution_count": 16,
   "metadata": {},
   "outputs": [],
   "source": [
    "import requests\n",
    "import pandas as pd\n",
    "import numpy as np\n",
    "import json\n",
    "from pandas import json_normalize\n",
    "import os\n",
    "import glob\n",
    "import matplotlib.pyplot as plt\n",
    "import seaborn as sns\n",
    "from datetime import date, datetime, timedelta, timezone\n",
    "from scipy.cluster.hierarchy import linkage, dendrogram\n",
    "from time import sleep\n",
    "from random import randint"
   ]
  },
  {
   "cell_type": "markdown",
   "metadata": {},
   "source": [
    "# # API Camp to Camp - "
   ]
  },
  {
   "cell_type": "code",
   "execution_count": 2,
   "metadata": {
    "scrolled": true
   },
   "outputs": [
    {
     "ename": "FileNotFoundError",
     "evalue": "[Errno 2] No such file or directory: 'C:/Users/Mossuz Damien/Documents/Python Scripts/01 - C2C API/input_/merged_file.json'",
     "output_type": "error",
     "traceback": [
      "\u001b[1;31m---------------------------------------------------------------------------\u001b[0m",
      "\u001b[1;31mFileNotFoundError\u001b[0m                         Traceback (most recent call last)",
      "\u001b[1;32m<ipython-input-2-4118b6190bf4>\u001b[0m in \u001b[0;36m<module>\u001b[1;34m\u001b[0m\n\u001b[0;32m     28\u001b[0m \u001b[1;33m\u001b[0m\u001b[0m\n\u001b[0;32m     29\u001b[0m \u001b[1;31m#Import merged results -\u001b[0m\u001b[1;33m\u001b[0m\u001b[1;33m\u001b[0m\u001b[0m\n\u001b[1;32m---> 30\u001b[1;33m \u001b[1;32mwith\u001b[0m \u001b[0mopen\u001b[0m\u001b[1;33m(\u001b[0m\u001b[0mpath\u001b[0m \u001b[1;33m+\u001b[0m \u001b[1;34m\"merged_file.json\"\u001b[0m\u001b[1;33m,\u001b[0m \u001b[1;34m\"r\"\u001b[0m\u001b[1;33m,\u001b[0m\u001b[0mencoding\u001b[0m\u001b[1;33m=\u001b[0m\u001b[1;34m'utf-8'\u001b[0m\u001b[1;33m)\u001b[0m \u001b[1;32mas\u001b[0m \u001b[0minfile\u001b[0m\u001b[1;33m:\u001b[0m\u001b[1;33m\u001b[0m\u001b[0m\n\u001b[0m\u001b[0;32m     31\u001b[0m      \u001b[0mjson_data\u001b[0m \u001b[1;33m=\u001b[0m \u001b[0mjson\u001b[0m\u001b[1;33m.\u001b[0m\u001b[0mload\u001b[0m\u001b[1;33m(\u001b[0m\u001b[0minfile\u001b[0m\u001b[1;33m)\u001b[0m\u001b[1;33m\u001b[0m\u001b[0m\n\u001b[0;32m     32\u001b[0m \u001b[1;33m\u001b[0m\u001b[0m\n",
      "\u001b[1;31mFileNotFoundError\u001b[0m: [Errno 2] No such file or directory: 'C:/Users/Mossuz Damien/Documents/Python Scripts/01 - C2C API/input_/merged_file.json'"
     ]
    }
   ],
   "source": [
    "# #Export data from C2C API\n",
    "\n",
    "url = 'https://api.camptocamp.org/outings'\n",
    "france = '&a=14274'\n",
    "req_activities = {'?act=skitouring':310,'?act=rock_climbing':330,'?act=mountain_climbing':100,'?act=snow_ice_mixed':100,'?act=ice_climbing':100,'?act=hiking':100}\n",
    "\n",
    "request_num = 0\n",
    "result=[]\n",
    "\n",
    "for k,v in req_activities.items():\n",
    "    for i in range(0,v):\n",
    "        if i == 0 : \n",
    "            api_path = url + k + france\n",
    "        else:\n",
    "            api_path = url + k + france + '&offset=' + str(i*30)            \n",
    "        print(api_path)\n",
    "        r = requests.get(api_path)\n",
    "        result.append(r.json())\n",
    "        request_num += 1\n",
    "        sleep(randint(1,3))\n",
    "        \n",
    "print(\"Nombre total de reqûetes :\" + str(request_num))\n",
    "        \n",
    "path = 'C:/Users/Mossuz Damien/Documents/Python Scripts/01 - C2C API/input_/'\n",
    "\n",
    "with open(path + \"merged_file.json\", \"w\",encoding='utf-8') as outfile:\n",
    "     json.dump(result, outfile, ensure_ascii=False,indent=4)\n",
    "\n",
    "#Import merged results -        \n",
    "with open(path + \"merged_file.json\", \"r\",encoding='utf-8') as infile:\n",
    "     json_data = json.load(infile)\n",
    "\n",
    "#Check - \n",
    "print(len(json_data))\n",
    "print(json_data)"
   ]
  },
  {
   "cell_type": "code",
   "execution_count": null,
   "metadata": {},
   "outputs": [],
   "source": []
  }
 ],
 "metadata": {
  "kernelspec": {
   "display_name": "Python 3",
   "language": "python",
   "name": "python3"
  },
  "language_info": {
   "codemirror_mode": {
    "name": "ipython",
    "version": 3
   },
   "file_extension": ".py",
   "mimetype": "text/x-python",
   "name": "python",
   "nbconvert_exporter": "python",
   "pygments_lexer": "ipython3",
   "version": "3.6.5"
  }
 },
 "nbformat": 4,
 "nbformat_minor": 4
}
